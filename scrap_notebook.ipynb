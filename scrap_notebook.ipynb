{
 "cells": [
  {
   "cell_type": "code",
   "execution_count": 3,
   "id": "639daf94-62d5-46a3-80ae-69e348576af6",
   "metadata": {},
   "outputs": [],
   "source": [
    "import quarto"
   ]
  },
  {
   "cell_type": "code",
   "execution_count": 6,
   "id": "35883e6f-a7af-4491-8c65-e8f261834397",
   "metadata": {},
   "outputs": [],
   "source": [
    "quarto_game = quarto.QuartoGame"
   ]
  },
  {
   "cell_type": "code",
   "execution_count": 12,
   "id": "ca41e0f1-34fa-4967-96ed-b48b04113660",
   "metadata": {},
   "outputs": [
    {
     "ename": "AttributeError",
     "evalue": "type object 'QuartoGame' has no attribute '_current_moves'",
     "output_type": "error",
     "traceback": [
      "\u001b[0;31m---------------------------------------------------------------------------\u001b[0m",
      "\u001b[0;31mAttributeError\u001b[0m                            Traceback (most recent call last)",
      "\u001b[0;32m/var/folders/d1/zy_dtwln17q24xpn8ftksdx80000gn/T/ipykernel_81927/1479405871.py\u001b[0m in \u001b[0;36m<module>\u001b[0;34m\u001b[0m\n\u001b[0;32m----> 1\u001b[0;31m \u001b[0mquarto_game\u001b[0m\u001b[0;34m.\u001b[0m\u001b[0m_get_winning_combos\u001b[0m\u001b[0;34m(\u001b[0m\u001b[0mquarto_game\u001b[0m\u001b[0;34m)\u001b[0m\u001b[0;34m\u001b[0m\u001b[0;34m\u001b[0m\u001b[0m\n\u001b[0m",
      "\u001b[0;32m~/Documents/Allstate/Quarto/plb_quarto/quarto.py\u001b[0m in \u001b[0;36m_get_winning_combos\u001b[0;34m(self)\u001b[0m\n\u001b[1;32m     42\u001b[0m         rows = [\n\u001b[1;32m     43\u001b[0m             \u001b[0;34m[\u001b[0m\u001b[0;34m(\u001b[0m\u001b[0mmove\u001b[0m\u001b[0;34m.\u001b[0m\u001b[0mrow\u001b[0m\u001b[0;34m,\u001b[0m \u001b[0mmove\u001b[0m\u001b[0;34m.\u001b[0m\u001b[0mcol\u001b[0m\u001b[0;34m)\u001b[0m \u001b[0;32mfor\u001b[0m \u001b[0mmove\u001b[0m \u001b[0;32min\u001b[0m \u001b[0mrow\u001b[0m\u001b[0;34m]\u001b[0m\u001b[0;34m\u001b[0m\u001b[0;34m\u001b[0m\u001b[0m\n\u001b[0;32m---> 44\u001b[0;31m             \u001b[0;32mfor\u001b[0m \u001b[0mrow\u001b[0m \u001b[0;32min\u001b[0m \u001b[0mself\u001b[0m\u001b[0;34m.\u001b[0m\u001b[0m_current_moves\u001b[0m\u001b[0;34m\u001b[0m\u001b[0;34m\u001b[0m\u001b[0m\n\u001b[0m\u001b[1;32m     45\u001b[0m         ]\n\u001b[1;32m     46\u001b[0m         \u001b[0mcolumns\u001b[0m \u001b[0;34m=\u001b[0m \u001b[0;34m[\u001b[0m\u001b[0mlist\u001b[0m\u001b[0;34m(\u001b[0m\u001b[0mcol\u001b[0m\u001b[0;34m)\u001b[0m \u001b[0;32mfor\u001b[0m \u001b[0mcol\u001b[0m \u001b[0;32min\u001b[0m \u001b[0mzip\u001b[0m\u001b[0;34m(\u001b[0m\u001b[0;34m*\u001b[0m\u001b[0mrows\u001b[0m\u001b[0;34m)\u001b[0m\u001b[0;34m]\u001b[0m\u001b[0;34m\u001b[0m\u001b[0;34m\u001b[0m\u001b[0m\n",
      "\u001b[0;31mAttributeError\u001b[0m: type object 'QuartoGame' has no attribute '_current_moves'"
     ]
    }
   ],
   "source": [
    "quarto_game._get_winning_combos(quarto_game)"
   ]
  },
  {
   "cell_type": "code",
   "execution_count": 8,
   "id": "d099e3aa-1d54-40f5-8b4c-83952154c0fa",
   "metadata": {},
   "outputs": [
    {
     "name": "stdout",
     "output_type": "stream",
     "text": [
      "['__class__', '__delattr__', '__dict__', '__dir__', '__doc__', '__eq__', '__format__', '__ge__', '__getattribute__', '__gt__', '__hash__', '__init__', '__init_subclass__', '__le__', '__lt__', '__module__', '__ne__', '__new__', '__reduce__', '__reduce_ex__', '__repr__', '__setattr__', '__sizeof__', '__str__', '__subclasshook__', '__weakref__', '_get_winning_combos', '_setup_board']\n"
     ]
    }
   ],
   "source": [
    "print(dir(quarto_game))"
   ]
  },
  {
   "cell_type": "code",
   "execution_count": 3,
   "id": "9e99e03e-2131-41c4-9e7b-03c9adb91eee",
   "metadata": {},
   "outputs": [
    {
     "ename": "ModuleNotFoundError",
     "evalue": "No module named 'vispy'",
     "output_type": "error",
     "traceback": [
      "\u001b[0;31m---------------------------------------------------------------------------\u001b[0m",
      "\u001b[0;31mModuleNotFoundError\u001b[0m                       Traceback (most recent call last)",
      "\u001b[0;32m/var/folders/d1/zy_dtwln17q24xpn8ftksdx80000gn/T/ipykernel_28369/1827134156.py\u001b[0m in \u001b[0;36m<module>\u001b[0;34m\u001b[0m\n\u001b[0;32m----> 1\u001b[0;31m \u001b[0;32mimport\u001b[0m \u001b[0mvispy\u001b[0m\u001b[0;34m.\u001b[0m\u001b[0mplot\u001b[0m \u001b[0;32mas\u001b[0m \u001b[0mvp\u001b[0m\u001b[0;34m\u001b[0m\u001b[0;34m\u001b[0m\u001b[0m\n\u001b[0m\u001b[1;32m      2\u001b[0m \u001b[0;32mimport\u001b[0m \u001b[0mvispy\u001b[0m\u001b[0;34m.\u001b[0m\u001b[0mio\u001b[0m \u001b[0;32mas\u001b[0m \u001b[0mio\u001b[0m\u001b[0;34m\u001b[0m\u001b[0;34m\u001b[0m\u001b[0m\n\u001b[1;32m      3\u001b[0m \u001b[0;34m\u001b[0m\u001b[0m\n\u001b[1;32m      4\u001b[0m \u001b[0;31m# Create a canvas showing plot data\u001b[0m\u001b[0;34m\u001b[0m\u001b[0;34m\u001b[0m\u001b[0;34m\u001b[0m\u001b[0m\n\u001b[1;32m      5\u001b[0m \u001b[0mcanvas\u001b[0m \u001b[0;34m=\u001b[0m \u001b[0mvp\u001b[0m\u001b[0;34m.\u001b[0m\u001b[0mplot\u001b[0m\u001b[0;34m(\u001b[0m\u001b[0;34m[\u001b[0m\u001b[0;36m1\u001b[0m\u001b[0;34m,\u001b[0m \u001b[0;36m6\u001b[0m\u001b[0;34m,\u001b[0m \u001b[0;36m2\u001b[0m\u001b[0;34m,\u001b[0m \u001b[0;36m4\u001b[0m\u001b[0;34m,\u001b[0m \u001b[0;36m3\u001b[0m\u001b[0;34m,\u001b[0m \u001b[0;36m8\u001b[0m\u001b[0;34m,\u001b[0m \u001b[0;36m5\u001b[0m\u001b[0;34m,\u001b[0m \u001b[0;36m7\u001b[0m\u001b[0;34m,\u001b[0m \u001b[0;36m6\u001b[0m\u001b[0;34m,\u001b[0m \u001b[0;36m3\u001b[0m\u001b[0;34m]\u001b[0m\u001b[0;34m)\u001b[0m\u001b[0;34m\u001b[0m\u001b[0;34m\u001b[0m\u001b[0m\n",
      "\u001b[0;31mModuleNotFoundError\u001b[0m: No module named 'vispy'"
     ]
    }
   ],
   "source": [
    "import vispy.plot as vp \n",
    "import vispy.io as io\n",
    "\n",
    "# Create a canvas showing plot data \n",
    "canvas = vp.plot([1, 6, 2, 4, 3, 8, 5, 7, 6, 3])\n",
    "\n",
    "# Use render to generate an image object\n",
    "img=canvas.render()\n",
    "\n",
    "# Use write_png to export your wonderful plot as png ! \n",
    "io.write_png(\"wonderful.png\",img)"
   ]
  },
  {
   "cell_type": "code",
   "execution_count": null,
   "id": "26799c81-c58b-4365-85b9-b7effe1170da",
   "metadata": {},
   "outputs": [],
   "source": [
    "import sys\n",
    "\n",
    "from vispy import scene\n",
    "from vispy.color import Color\n",
    "canvas = scene.SceneCanvas(keys='interactive', size=(800, 600), show=True)\n",
    "\n",
    "# Set up a viewbox to display the cube with interactive arcball\n",
    "view = canvas.central_widget.add_view()\n",
    "view.bgcolor = '#efefef'\n",
    "view.camera = 'turntable'\n",
    "view.padding = 100\n",
    "\n",
    "color = Color(\"#3f51b5\")\n",
    "\n",
    "cube = scene.visuals.Box(1, 1, 1, color=color, edge_color=\"black\",\n",
    "                         parent=view.scene)"
   ]
  },
  {
   "cell_type": "code",
   "execution_count": 20,
   "id": "e1f9877e-9ff0-4ecd-b13a-83a88fa2a83c",
   "metadata": {},
   "outputs": [
    {
     "name": "stderr",
     "output_type": "stream",
     "text": [
      "/var/folders/d1/zy_dtwln17q24xpn8ftksdx80000gn/T/ipykernel_28732/1516928659.py:11: DeprecationWarning: `np.bool` is a deprecated alias for the builtin `bool`. To silence this warning, use `bool` by itself. Doing this will not modify any behavior and is safe. If you specifically wanted the numpy scalar type, use `np.bool_` here.\n",
      "Deprecated in NumPy 1.20; for more details and guidance: https://numpy.org/devdocs/release/1.20.0-notes.html#deprecations\n",
      "  data = np.ones(axes, dtype=np.bool)\n"
     ]
    },
    {
     "data": {
      "image/png": "[encoded data removed]",
      "text/plain": [
       "<Figure size 432x288 with 1 Axes>"
      ]
     },
     "metadata": {},
     "output_type": "display_data"
    }
   ],
   "source": [
    "\n",
    "import matplotlib.pyplot as plt\n",
    "from mpl_toolkits.mplot3d import Axes3D\n",
    "import numpy as np\n",
    "\n",
    "#This makes a basic red cube\n",
    "\n",
    "# Create axis\n",
    "axes = [5, 5, 5]\n",
    " \n",
    "# Create Data\n",
    "data = np.ones(axes, dtype=np.bool)\n",
    " \n",
    "# Control Transparency\n",
    "alpha = 1\n",
    " \n",
    "# Control colour\n",
    "colors = np.empty(axes + [4], dtype=np.float32)\n",
    " \n",
    "colors[:] = [1, 0, 0, alpha]  # red\n",
    " \n",
    "# Plot figure\n",
    "fig = plt.figure()\n",
    "ax = fig.add_subplot(111, projection='3d')\n",
    " \n",
    "# Voxels is used to customizations of the\n",
    "# sizes, positions and colors.\n",
    "ax.voxels(data, facecolors=colors)\n",
    "\n",
    "ax.axis('off')\n",
    "ax.grid(False)\n",
    "ax.set_xticks([])\n",
    "ax.set_yticks([])\n",
    "ax.set_zticks([])\n",
    "plt.savefig('test.png', dpi = 400, transparent = True)"
   ]
  },
  {
   "cell_type": "code",
   "execution_count": null,
   "id": "25faed7c-3929-4b3f-8a3b-35fb164e1f78",
   "metadata": {},
   "outputs": [],
   "source": []
  },
  {
   "cell_type": "code",
   "execution_count": 15,
   "id": "e0b09932-9b7f-47c7-9bdb-6d214a45bcd3",
   "metadata": {},
   "outputs": [],
   "source": [
    "a = [list(bin(i).split('b')[1].zfill(4)) for i in range(16)]\n",
    "pieces = np.array(a).astype(int)"
   ]
  },
  {
   "cell_type": "code",
   "execution_count": 19,
   "id": "7b18b16f-4cd2-424d-a7c8-7c187c23f80a",
   "metadata": {},
   "outputs": [
    {
     "name": "stdout",
     "output_type": "stream",
     "text": [
      "[0 0 0 0]\n",
      "[0 0 0 1]\n",
      "[0 0 1 0]\n",
      "[0 0 1 1]\n",
      "[0 1 0 0]\n",
      "[0 1 0 1]\n",
      "[0 1 1 0]\n",
      "[0 1 1 1]\n",
      "[1 0 0 0]\n",
      "[1 0 0 1]\n",
      "[1 0 1 0]\n",
      "[1 0 1 1]\n",
      "[1 1 0 0]\n",
      "[1 1 0 1]\n",
      "[1 1 1 0]\n",
      "[1 1 1 1]\n"
     ]
    }
   ],
   "source": [
    "pieces\n",
    "\n",
    "# Create axis\n",
    "axes = [5, 5, 5]\n",
    " \n",
    "# Create Data\n",
    "data = np.ones(axes, dtype=np.bool)\n",
    " \n",
    "# Control Transparency\n",
    "alpha = 0.9\n",
    " \n",
    "# Control colour\n",
    "colors = np.empty(axes + [4], dtype=np.float32)\n",
    " \n",
    "colors[:] = [1, 0, 0, alpha]  # red\n",
    " \n",
    "# Plot figure\n",
    "fig = plt.figure()\n",
    "ax = fig.add_subplot(111, projection='3d')\n",
    " \n",
    "# Voxels is used to customizations of the\n",
    "# sizes, positions and colors.\n",
    "ax.voxels(data, facecolors=colors)\n",
    "\n",
    "ax.axis('off')\n",
    "ax.grid(False)\n",
    "ax.set_xticks([])\n",
    "ax.set_yticks([])\n",
    "ax.set_zticks([])\n",
    "plt.savefig('test.png', dpi = 400, transparent = True)\n",
    "\n",
    "for i in pieces:\n",
    "    print(i)"
   ]
  },
  {
   "cell_type": "code",
   "execution_count": 94,
   "id": "254578fe-4f4a-4e41-93bc-3569b859917f",
   "metadata": {},
   "outputs": [
    {
     "name": "stderr",
     "output_type": "stream",
     "text": [
      "/var/folders/d1/zy_dtwln17q24xpn8ftksdx80000gn/T/ipykernel_28732/1934925385.py:35: MatplotlibDeprecationWarning: Calling gca() with keyword arguments was deprecated in Matplotlib 3.4. Starting two minor releases later, gca() will take no keyword arguments. The gca() function should only be used to get the current axes, or if no axes exist, create new axes with default keyword arguments. To create a new axes with non-default arguments, use plt.axes() or plt.subplot().\n",
      "  ax = fig.gca(projection='3d')\n"
     ]
    },
    {
     "data": {
      "image/png": "[encoded data removed]",
      "text/plain": [
       "<Figure size 432x288 with 1 Axes>"
      ]
     },
     "metadata": {
      "needs_background": "light"
     },
     "output_type": "display_data"
    }
   ],
   "source": [
    "def cuboid_data(o, size=(1,1,1)):\n",
    "    # code taken from\n",
    "    # https://stackoverflow.com/a/35978146/4124317\n",
    "    # suppose axis direction: x: to left; y: to inside; z: to upper\n",
    "    # get the length, width, and height\n",
    "    l, w, h = size\n",
    "    x = [[o[0], o[0] + l, o[0] + l, o[0], o[0]],  \n",
    "         [o[0], o[0] + l, o[0] + l, o[0], o[0]],  \n",
    "         [o[0], o[0] + l, o[0] + l, o[0], o[0]],  \n",
    "         [o[0], o[0] + l, o[0] + l, o[0], o[0]]]  \n",
    "    y = [[o[1], o[1], o[1] + w, o[1] + w, o[1]],  \n",
    "         [o[1], o[1], o[1] + w, o[1] + w, o[1]],  \n",
    "         [o[1], o[1], o[1], o[1], o[1]],          \n",
    "         [o[1] + w, o[1] + w, o[1] + w, o[1] + w, o[1] + w]]   \n",
    "    z = [[o[2], o[2], o[2], o[2], o[2]],                       \n",
    "         [o[2] + h, o[2] + h, o[2] + h, o[2] + h, o[2] + h],   \n",
    "         [o[2], o[2], o[2] + h, o[2] + h, o[2]],               \n",
    "         [o[2], o[2], o[2] + h, o[2] + h, o[2]]]               \n",
    "    return np.array(x), np.array(y), np.array(z)\n",
    "\n",
    "def plotCubeAt(pos=(0,0,0), size=(1,1,1), ax=None,**kwargs):\n",
    "    # Plotting a cube element at position pos\n",
    "    if ax !=None:\n",
    "        X, Y, Z = cuboid_data( pos, size )\n",
    "        ax.plot_surface(X, Y, Z, rstride=1, cstride=1, **kwargs)\n",
    "\n",
    "positions = [(0,0,0), (2.8,0.5,1)]  # [(-3,5,-2),(1,7,1)]\n",
    "sizes = [(5,5,5), (1,1,5)]\n",
    "#colors = [\"crimson\"]\n",
    "alpha = 0.9 #Higher alpha maybe better\n",
    "colors = [ [1, 1, 0, 0.3], [0,0,0,1]]\n",
    "\n",
    "\n",
    "fig = plt.figure()\n",
    "ax = fig.gca(projection='3d')\n",
    "#ax.set_aspect('auto')\n",
    "ax.set_box_aspect((1, 1, 1))\n",
    "#ax.axis('off')\n",
    "\n",
    "for p,s,c in zip(positions,sizes,colors):\n",
    "    plotCubeAt(pos=p, size=s, ax=ax, color=c)\n",
    "    #plt.savefig(f\"{p[0]}.png\")\n",
    "\n",
    "plt.show()"
   ]
  },
  {
   "cell_type": "code",
   "execution_count": null,
   "id": "c96a3660-8817-4acc-83fa-8c6ea86b06d2",
   "metadata": {},
   "outputs": [],
   "source": []
  }
 ],
 "metadata": {
  "kernelspec": {
   "display_name": "Python 3 (ipykernel)",
   "language": "python",
   "name": "python3"
  },
  "language_info": {
   "codemirror_mode": {
    "name": "ipython",
    "version": 3
   },
   "file_extension": ".py",
   "mimetype": "text/x-python",
   "name": "python",
   "nbconvert_exporter": "python",
   "pygments_lexer": "ipython3",
   "version": "3.8.12"
  }
 },
 "nbformat": 4,
 "nbformat_minor": 5
}
